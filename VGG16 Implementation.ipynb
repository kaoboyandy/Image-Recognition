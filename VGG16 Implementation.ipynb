{
 "cells": [
  {
   "cell_type": "code",
   "execution_count": 1,
   "metadata": {},
   "outputs": [
    {
     "name": "stderr",
     "output_type": "stream",
     "text": [
      "Using TensorFlow backend.\n"
     ]
    },
    {
     "data": {
      "text/plain": [
       "'2.1.3'"
      ]
     },
     "execution_count": 1,
     "metadata": {},
     "output_type": "execute_result"
    }
   ],
   "source": [
    "import keras\n",
    "keras.__version__"
   ]
  },
  {
   "cell_type": "markdown",
   "metadata": {},
   "source": [
    "We can check which devices are avaliable using with keras."
   ]
  },
  {
   "cell_type": "code",
   "execution_count": 78,
   "metadata": {},
   "outputs": [
    {
     "data": {
      "text/plain": [
       "['/job:localhost/replica:0/task:0/device:GPU:0']"
      ]
     },
     "execution_count": 78,
     "metadata": {},
     "output_type": "execute_result"
    }
   ],
   "source": [
    "from keras import backend as K\n",
    "K.tensorflow_backend._get_available_gpus()"
   ]
  },
  {
   "cell_type": "markdown",
   "metadata": {},
   "source": [
    "We'll download a pretrain model without the top, meaning without the fully connected layers. We'll use the bottom half of the model as a feature extractor and retrain our own fully connected layer for classication."
   ]
  },
  {
   "cell_type": "code",
   "execution_count": 2,
   "metadata": {
    "collapsed": true
   },
   "outputs": [],
   "source": [
    "from keras.applications import VGG16\n",
    "\n",
    "conv_base = VGG16(weights='imagenet',\n",
    "                  include_top=False,\n",
    "                  input_shape=(150, 150, 3))"
   ]
  },
  {
   "cell_type": "code",
   "execution_count": 80,
   "metadata": {},
   "outputs": [
    {
     "name": "stdout",
     "output_type": "stream",
     "text": [
      "_________________________________________________________________\n",
      "Layer (type)                 Output Shape              Param #   \n",
      "=================================================================\n",
      "input_3 (InputLayer)         (None, 150, 150, 3)       0         \n",
      "_________________________________________________________________\n",
      "block1_conv1 (Conv2D)        (None, 150, 150, 64)      1792      \n",
      "_________________________________________________________________\n",
      "block1_conv2 (Conv2D)        (None, 150, 150, 64)      36928     \n",
      "_________________________________________________________________\n",
      "block1_pool (MaxPooling2D)   (None, 75, 75, 64)        0         \n",
      "_________________________________________________________________\n",
      "block2_conv1 (Conv2D)        (None, 75, 75, 128)       73856     \n",
      "_________________________________________________________________\n",
      "block2_conv2 (Conv2D)        (None, 75, 75, 128)       147584    \n",
      "_________________________________________________________________\n",
      "block2_pool (MaxPooling2D)   (None, 37, 37, 128)       0         \n",
      "_________________________________________________________________\n",
      "block3_conv1 (Conv2D)        (None, 37, 37, 256)       295168    \n",
      "_________________________________________________________________\n",
      "block3_conv2 (Conv2D)        (None, 37, 37, 256)       590080    \n",
      "_________________________________________________________________\n",
      "block3_conv3 (Conv2D)        (None, 37, 37, 256)       590080    \n",
      "_________________________________________________________________\n",
      "block3_pool (MaxPooling2D)   (None, 18, 18, 256)       0         \n",
      "_________________________________________________________________\n",
      "block4_conv1 (Conv2D)        (None, 18, 18, 512)       1180160   \n",
      "_________________________________________________________________\n",
      "block4_conv2 (Conv2D)        (None, 18, 18, 512)       2359808   \n",
      "_________________________________________________________________\n",
      "block4_conv3 (Conv2D)        (None, 18, 18, 512)       2359808   \n",
      "_________________________________________________________________\n",
      "block4_pool (MaxPooling2D)   (None, 9, 9, 512)         0         \n",
      "_________________________________________________________________\n",
      "block5_conv1 (Conv2D)        (None, 9, 9, 512)         2359808   \n",
      "_________________________________________________________________\n",
      "block5_conv2 (Conv2D)        (None, 9, 9, 512)         2359808   \n",
      "_________________________________________________________________\n",
      "block5_conv3 (Conv2D)        (None, 9, 9, 512)         2359808   \n",
      "_________________________________________________________________\n",
      "block5_pool (MaxPooling2D)   (None, 4, 4, 512)         0         \n",
      "=================================================================\n",
      "Total params: 14,714,688\n",
      "Trainable params: 14,714,688\n",
      "Non-trainable params: 0\n",
      "_________________________________________________________________\n"
     ]
    }
   ],
   "source": [
    "conv_base.summary()"
   ]
  },
  {
   "cell_type": "markdown",
   "metadata": {},
   "source": [
    "When working with lagre datasets like lots of images we, don't want to load them all into memory at once. We can use generators to load the images in batches. For the keras `ImageDataGenerator` our data directory has to be in a particular structure, see [here](https://keras.io/getting-started/faq/#how-can-i-save-a-keras-model) for details ."
   ]
  },
  {
   "cell_type": "code",
   "execution_count": 3,
   "metadata": {
    "collapsed": true
   },
   "outputs": [],
   "source": [
    "import os\n",
    "import numpy as np\n",
    "from keras.preprocessing.image import ImageDataGenerator"
   ]
  },
  {
   "cell_type": "code",
   "execution_count": 4,
   "metadata": {
    "collapsed": true
   },
   "outputs": [],
   "source": [
    "path = '.../data/cat_dog_test_set'\n",
    "datagen = ImageDataGenerator(rescale=1./255)\n",
    "batch_size = 1000"
   ]
  },
  {
   "cell_type": "code",
   "execution_count": 10,
   "metadata": {},
   "outputs": [
    {
     "name": "stderr",
     "output_type": "stream",
     "text": [
      "bash: line 2: tree: command not found\n"
     ]
    }
   ],
   "source": [
    "%%bash\n",
    "#tree -d /home/dom/datasets/dog-vs-cat/train\n",
    "tree -d /data/cat_dog_test_set"
   ]
  },
  {
   "cell_type": "code",
   "execution_count": null,
   "metadata": {
    "collapsed": true
   },
   "outputs": [],
   "source": [
    "datagen.flow_from_directory"
   ]
  },
  {
   "cell_type": "markdown",
   "metadata": {},
   "source": [
    "The folder names inside the train folder will be used as labels."
   ]
  },
  {
   "cell_type": "code",
   "execution_count": 84,
   "metadata": {
    "collapsed": true
   },
   "outputs": [],
   "source": [
    "\n",
    "def extract_features(directory, sample_count):\n",
    "    features = np.zeros(shape=(sample_count, 4, 4, 512))\n",
    "    labels = np.zeros(shape=(sample_count))\n",
    "\n",
    "    generator = datagen.flow_from_directory(\n",
    "        directory,\n",
    "        target_size=(150, 150),\n",
    "        batch_size=batch_size,\n",
    "        class_mode='binary')\n",
    "    i = 0\n",
    "    for inputs_batch, labels_batch in generator:\n",
    "        #We use the conv_base to extract the images features\n",
    "        features_batch = conv_base.predict(inputs_batch)\n",
    "        features[i * batch_size : (i + 1) * batch_size] = features_batch\n",
    "        labels[i * batch_size : (i + 1) * batch_size] = labels_batch\n",
    "        i += 1\n",
    "        if i * batch_size >= sample_count:\n",
    "            # Note that since generators yield data indefinitely in a loop,\n",
    "            # we must `break` after every image has been seen once.\n",
    "            break\n",
    "    return features, labels\n"
   ]
  },
  {
   "cell_type": "code",
   "execution_count": null,
   "metadata": {
    "collapsed": true
   },
   "outputs": [],
   "source": [
    "n_samples = 2000"
   ]
  },
  {
   "cell_type": "code",
   "execution_count": 95,
   "metadata": {},
   "outputs": [
    {
     "data": {
      "text/plain": [
       "(20000, 8192)"
      ]
     },
     "execution_count": 95,
     "metadata": {},
     "output_type": "execute_result"
    }
   ],
   "source": [
    "features.shape"
   ]
  },
  {
   "cell_type": "code",
   "execution_count": 96,
   "metadata": {},
   "outputs": [
    {
     "data": {
      "text/plain": [
       "(20000,)"
      ]
     },
     "execution_count": 96,
     "metadata": {},
     "output_type": "execute_result"
    }
   ],
   "source": [
    "labels.shape"
   ]
  },
  {
   "cell_type": "code",
   "execution_count": 87,
   "metadata": {},
   "outputs": [
    {
     "name": "stdout",
     "output_type": "stream",
     "text": [
      "Found 25000 images belonging to 2 classes.\n"
     ]
    }
   ],
   "source": [
    "features, labels = extract_features(train_dir,n_samples )"
   ]
  },
  {
   "cell_type": "code",
   "execution_count": 90,
   "metadata": {
    "collapsed": true
   },
   "outputs": [],
   "source": [
    "features = np.reshape(features, (n_samples, 4 * 4 * 512))#flatten lay output"
   ]
  },
  {
   "cell_type": "code",
   "execution_count": 97,
   "metadata": {
    "collapsed": true
   },
   "outputs": [],
   "source": [
    "from keras import models\n",
    "from keras import layers\n",
    "from keras import optimizers"
   ]
  },
  {
   "cell_type": "code",
   "execution_count": 98,
   "metadata": {
    "collapsed": true
   },
   "outputs": [],
   "source": [
    "#Here we'll retrain a classifier.\n",
    "model = models.Sequential()\n",
    "model.add(layers.Dense(256, activation='relu', input_dim=4 * 4 * 512))\n",
    "model.add(layers.Dropout(0.5))\n",
    "model.add(layers.Dense(1, activation='sigmoid'))\n",
    "\n",
    "model.compile(optimizer=optimizers.RMSprop(lr=2e-5),\n",
    "              loss='binary_crossentropy',\n",
    "              metrics=['acc'])\n",
    "\n"
   ]
  },
  {
   "cell_type": "code",
   "execution_count": 100,
   "metadata": {},
   "outputs": [
    {
     "name": "stdout",
     "output_type": "stream",
     "text": [
      "Train on 16000 samples, validate on 4000 samples\n",
      "Epoch 1/200\n",
      "16000/16000 [==============================] - 1s 81us/step - loss: 0.6752 - acc: 0.6068 - val_loss: 0.5173 - val_acc: 0.7862\n",
      "Epoch 2/200\n",
      "16000/16000 [==============================] - 1s 60us/step - loss: 0.5247 - acc: 0.7415 - val_loss: 0.4290 - val_acc: 0.8327\n",
      "Epoch 3/200\n",
      "16000/16000 [==============================] - 1s 61us/step - loss: 0.4468 - acc: 0.7954 - val_loss: 0.3781 - val_acc: 0.8483\n",
      "Epoch 4/200\n",
      "16000/16000 [==============================] - 1s 65us/step - loss: 0.3919 - acc: 0.8286 - val_loss: 0.3463 - val_acc: 0.8545\n",
      "Epoch 5/200\n",
      "16000/16000 [==============================] - 1s 61us/step - loss: 0.3654 - acc: 0.8374 - val_loss: 0.3175 - val_acc: 0.8710\n",
      "Epoch 6/200\n",
      "16000/16000 [==============================] - 1s 61us/step - loss: 0.3368 - acc: 0.8524 - val_loss: 0.3033 - val_acc: 0.8793\n",
      "Epoch 7/200\n",
      "16000/16000 [==============================] - 1s 60us/step - loss: 0.3228 - acc: 0.8621 - val_loss: 0.2890 - val_acc: 0.8833\n",
      "Epoch 8/200\n",
      "16000/16000 [==============================] - 1s 62us/step - loss: 0.3078 - acc: 0.8667 - val_loss: 0.2825 - val_acc: 0.8855\n",
      "Epoch 9/200\n",
      "16000/16000 [==============================] - 1s 62us/step - loss: 0.2955 - acc: 0.8752 - val_loss: 0.2721 - val_acc: 0.8847\n",
      "Epoch 10/200\n",
      "16000/16000 [==============================] - 1s 62us/step - loss: 0.2852 - acc: 0.8769 - val_loss: 0.2654 - val_acc: 0.8860\n",
      "Epoch 11/200\n",
      "16000/16000 [==============================] - 1s 63us/step - loss: 0.2773 - acc: 0.8818 - val_loss: 0.2570 - val_acc: 0.8928\n",
      "Epoch 12/200\n",
      "16000/16000 [==============================] - 1s 64us/step - loss: 0.2717 - acc: 0.8852 - val_loss: 0.2575 - val_acc: 0.8918\n",
      "Epoch 13/200\n",
      "16000/16000 [==============================] - 1s 64us/step - loss: 0.2641 - acc: 0.8915 - val_loss: 0.2480 - val_acc: 0.8958\n",
      "Epoch 14/200\n",
      "16000/16000 [==============================] - 1s 65us/step - loss: 0.2569 - acc: 0.8925 - val_loss: 0.2456 - val_acc: 0.8992\n",
      "Epoch 15/200\n",
      "16000/16000 [==============================] - 1s 65us/step - loss: 0.2517 - acc: 0.8931 - val_loss: 0.2407 - val_acc: 0.8985\n",
      "Epoch 16/200\n",
      "16000/16000 [==============================] - 1s 63us/step - loss: 0.2497 - acc: 0.8941 - val_loss: 0.2376 - val_acc: 0.9003\n",
      "Epoch 17/200\n",
      "16000/16000 [==============================] - 1s 65us/step - loss: 0.2459 - acc: 0.8957 - val_loss: 0.2452 - val_acc: 0.8958\n",
      "Epoch 18/200\n",
      "16000/16000 [==============================] - 1s 65us/step - loss: 0.2397 - acc: 0.8984 - val_loss: 0.2352 - val_acc: 0.9027\n",
      "Epoch 19/200\n",
      "16000/16000 [==============================] - 1s 65us/step - loss: 0.2361 - acc: 0.9017 - val_loss: 0.2301 - val_acc: 0.9037\n",
      "Epoch 20/200\n",
      "16000/16000 [==============================] - 1s 66us/step - loss: 0.2330 - acc: 0.9026 - val_loss: 0.2297 - val_acc: 0.9055\n",
      "Epoch 21/200\n",
      "16000/16000 [==============================] - 1s 65us/step - loss: 0.2299 - acc: 0.9063 - val_loss: 0.2263 - val_acc: 0.9032\n",
      "Epoch 22/200\n",
      "16000/16000 [==============================] - 1s 64us/step - loss: 0.2231 - acc: 0.9096 - val_loss: 0.2272 - val_acc: 0.9027\n",
      "Epoch 23/200\n",
      "16000/16000 [==============================] - 1s 65us/step - loss: 0.2210 - acc: 0.9084 - val_loss: 0.2267 - val_acc: 0.9027\n",
      "Epoch 24/200\n",
      "16000/16000 [==============================] - 1s 63us/step - loss: 0.2230 - acc: 0.9069 - val_loss: 0.2224 - val_acc: 0.9065\n",
      "Epoch 25/200\n",
      "16000/16000 [==============================] - 1s 62us/step - loss: 0.2183 - acc: 0.9111 - val_loss: 0.2201 - val_acc: 0.9073\n",
      "Epoch 26/200\n",
      "16000/16000 [==============================] - 1s 63us/step - loss: 0.2169 - acc: 0.9083 - val_loss: 0.2194 - val_acc: 0.9068\n",
      "Epoch 27/200\n",
      "16000/16000 [==============================] - 1s 63us/step - loss: 0.2122 - acc: 0.9141 - val_loss: 0.2181 - val_acc: 0.9068\n",
      "Epoch 28/200\n",
      "16000/16000 [==============================] - 1s 63us/step - loss: 0.2114 - acc: 0.9119 - val_loss: 0.2190 - val_acc: 0.9095\n",
      "Epoch 29/200\n",
      "16000/16000 [==============================] - 1s 63us/step - loss: 0.2061 - acc: 0.9153 - val_loss: 0.2163 - val_acc: 0.9085\n",
      "Epoch 30/200\n",
      "16000/16000 [==============================] - 1s 64us/step - loss: 0.2037 - acc: 0.9156 - val_loss: 0.2152 - val_acc: 0.9107\n",
      "Epoch 31/200\n",
      "16000/16000 [==============================] - 1s 63us/step - loss: 0.2022 - acc: 0.9199 - val_loss: 0.2156 - val_acc: 0.9105\n",
      "Epoch 32/200\n",
      "16000/16000 [==============================] - 1s 63us/step - loss: 0.2023 - acc: 0.9162 - val_loss: 0.2134 - val_acc: 0.9075\n",
      "Epoch 33/200\n",
      "16000/16000 [==============================] - 1s 63us/step - loss: 0.1986 - acc: 0.9182 - val_loss: 0.2196 - val_acc: 0.9115\n",
      "Epoch 34/200\n",
      "16000/16000 [==============================] - 1s 63us/step - loss: 0.1968 - acc: 0.9206 - val_loss: 0.2117 - val_acc: 0.9107\n",
      "Epoch 35/200\n",
      "16000/16000 [==============================] - 1s 63us/step - loss: 0.1931 - acc: 0.9226 - val_loss: 0.2104 - val_acc: 0.9110\n",
      "Epoch 36/200\n",
      "16000/16000 [==============================] - 1s 63us/step - loss: 0.1937 - acc: 0.9209 - val_loss: 0.2104 - val_acc: 0.9118\n",
      "Epoch 37/200\n",
      "16000/16000 [==============================] - 1s 64us/step - loss: 0.1932 - acc: 0.9224 - val_loss: 0.2140 - val_acc: 0.9127\n",
      "Epoch 38/200\n",
      "16000/16000 [==============================] - 1s 63us/step - loss: 0.1873 - acc: 0.9227 - val_loss: 0.2094 - val_acc: 0.9118\n",
      "Epoch 39/200\n",
      "16000/16000 [==============================] - 1s 63us/step - loss: 0.1900 - acc: 0.9246 - val_loss: 0.2101 - val_acc: 0.9135\n",
      "Epoch 40/200\n",
      "16000/16000 [==============================] - 1s 63us/step - loss: 0.1864 - acc: 0.9254 - val_loss: 0.2100 - val_acc: 0.9143\n",
      "Epoch 41/200\n",
      "16000/16000 [==============================] - 1s 64us/step - loss: 0.1837 - acc: 0.9281 - val_loss: 0.2114 - val_acc: 0.9143\n",
      "Epoch 42/200\n",
      "16000/16000 [==============================] - 1s 65us/step - loss: 0.1824 - acc: 0.9279 - val_loss: 0.2068 - val_acc: 0.9138\n",
      "Epoch 43/200\n",
      "16000/16000 [==============================] - 1s 65us/step - loss: 0.1819 - acc: 0.9259 - val_loss: 0.2057 - val_acc: 0.9145\n",
      "Epoch 44/200\n",
      "16000/16000 [==============================] - 1s 66us/step - loss: 0.1811 - acc: 0.9273 - val_loss: 0.2067 - val_acc: 0.9133\n",
      "Epoch 45/200\n",
      "16000/16000 [==============================] - 1s 65us/step - loss: 0.1798 - acc: 0.9279 - val_loss: 0.2071 - val_acc: 0.9123\n",
      "Epoch 46/200\n",
      "16000/16000 [==============================] - 1s 65us/step - loss: 0.1791 - acc: 0.9286 - val_loss: 0.2049 - val_acc: 0.9148\n",
      "Epoch 47/200\n",
      "16000/16000 [==============================] - 1s 65us/step - loss: 0.1770 - acc: 0.9293 - val_loss: 0.2060 - val_acc: 0.9135\n",
      "Epoch 48/200\n",
      "16000/16000 [==============================] - 1s 66us/step - loss: 0.1746 - acc: 0.9299 - val_loss: 0.2040 - val_acc: 0.9155\n",
      "Epoch 49/200\n",
      "16000/16000 [==============================] - 1s 65us/step - loss: 0.1738 - acc: 0.9313 - val_loss: 0.2051 - val_acc: 0.9150\n",
      "Epoch 50/200\n",
      "16000/16000 [==============================] - 1s 63us/step - loss: 0.1725 - acc: 0.9308 - val_loss: 0.2032 - val_acc: 0.9163\n",
      "Epoch 51/200\n",
      "16000/16000 [==============================] - 1s 63us/step - loss: 0.1726 - acc: 0.9317 - val_loss: 0.2036 - val_acc: 0.9153\n",
      "Epoch 52/200\n",
      "16000/16000 [==============================] - 1s 63us/step - loss: 0.1711 - acc: 0.9341 - val_loss: 0.2022 - val_acc: 0.9158\n",
      "Epoch 53/200\n",
      "16000/16000 [==============================] - 1s 63us/step - loss: 0.1668 - acc: 0.9324 - val_loss: 0.2026 - val_acc: 0.9165\n",
      "Epoch 54/200\n",
      "16000/16000 [==============================] - 1s 63us/step - loss: 0.1680 - acc: 0.9334 - val_loss: 0.2017 - val_acc: 0.9163\n",
      "Epoch 55/200\n",
      "16000/16000 [==============================] - 1s 63us/step - loss: 0.1640 - acc: 0.9373 - val_loss: 0.2046 - val_acc: 0.9150\n",
      "Epoch 56/200\n",
      "16000/16000 [==============================] - 1s 63us/step - loss: 0.1648 - acc: 0.9363 - val_loss: 0.2013 - val_acc: 0.9170\n",
      "Epoch 57/200\n",
      "16000/16000 [==============================] - 1s 62us/step - loss: 0.1628 - acc: 0.9358 - val_loss: 0.2010 - val_acc: 0.9168\n",
      "Epoch 58/200\n",
      "16000/16000 [==============================] - 1s 63us/step - loss: 0.1625 - acc: 0.9374 - val_loss: 0.2016 - val_acc: 0.9162\n",
      "Epoch 59/200\n",
      "16000/16000 [==============================] - 1s 64us/step - loss: 0.1616 - acc: 0.9360 - val_loss: 0.2005 - val_acc: 0.9173\n",
      "Epoch 60/200\n",
      "16000/16000 [==============================] - 1s 62us/step - loss: 0.1601 - acc: 0.9366 - val_loss: 0.2011 - val_acc: 0.9170\n",
      "Epoch 61/200\n",
      "16000/16000 [==============================] - 1s 67us/step - loss: 0.1580 - acc: 0.9379 - val_loss: 0.2042 - val_acc: 0.9165\n",
      "Epoch 62/200\n",
      "16000/16000 [==============================] - 1s 66us/step - loss: 0.1585 - acc: 0.9392 - val_loss: 0.1999 - val_acc: 0.9178\n",
      "Epoch 63/200\n",
      "16000/16000 [==============================] - 1s 70us/step - loss: 0.1556 - acc: 0.9397 - val_loss: 0.2001 - val_acc: 0.9180\n",
      "Epoch 64/200\n",
      "16000/16000 [==============================] - 1s 66us/step - loss: 0.1573 - acc: 0.9400 - val_loss: 0.1992 - val_acc: 0.9180\n",
      "Epoch 65/200\n",
      "16000/16000 [==============================] - 1s 63us/step - loss: 0.1547 - acc: 0.9408 - val_loss: 0.1989 - val_acc: 0.9188\n",
      "Epoch 66/200\n",
      "16000/16000 [==============================] - 1s 63us/step - loss: 0.1539 - acc: 0.9414 - val_loss: 0.1996 - val_acc: 0.9182\n",
      "Epoch 67/200\n",
      "16000/16000 [==============================] - 1s 63us/step - loss: 0.1520 - acc: 0.9422 - val_loss: 0.1998 - val_acc: 0.9177\n",
      "Epoch 68/200\n",
      "16000/16000 [==============================] - 1s 63us/step - loss: 0.1507 - acc: 0.9416 - val_loss: 0.1998 - val_acc: 0.9175\n",
      "Epoch 69/200\n",
      "16000/16000 [==============================] - 1s 63us/step - loss: 0.1513 - acc: 0.9421 - val_loss: 0.1984 - val_acc: 0.9198\n",
      "Epoch 70/200\n",
      "16000/16000 [==============================] - 1s 64us/step - loss: 0.1500 - acc: 0.9433 - val_loss: 0.2029 - val_acc: 0.9157\n",
      "Epoch 71/200\n",
      "16000/16000 [==============================] - 1s 64us/step - loss: 0.1487 - acc: 0.9426 - val_loss: 0.1983 - val_acc: 0.9185\n",
      "Epoch 72/200\n",
      "16000/16000 [==============================] - 1s 65us/step - loss: 0.1463 - acc: 0.9444 - val_loss: 0.1982 - val_acc: 0.9180\n",
      "Epoch 73/200\n",
      "16000/16000 [==============================] - 1s 64us/step - loss: 0.1486 - acc: 0.9417 - val_loss: 0.1980 - val_acc: 0.9195\n",
      "Epoch 74/200\n",
      "16000/16000 [==============================] - 1s 63us/step - loss: 0.1462 - acc: 0.9434 - val_loss: 0.1978 - val_acc: 0.9193\n",
      "Epoch 75/200\n",
      "16000/16000 [==============================] - 1s 64us/step - loss: 0.1452 - acc: 0.9451 - val_loss: 0.2022 - val_acc: 0.9165\n",
      "Epoch 76/200\n",
      "16000/16000 [==============================] - 1s 63us/step - loss: 0.1429 - acc: 0.9469 - val_loss: 0.1996 - val_acc: 0.9183\n",
      "Epoch 77/200\n",
      "16000/16000 [==============================] - 1s 64us/step - loss: 0.1435 - acc: 0.9437 - val_loss: 0.1974 - val_acc: 0.9195\n",
      "Epoch 78/200\n",
      "16000/16000 [==============================] - 1s 63us/step - loss: 0.1420 - acc: 0.9471 - val_loss: 0.1982 - val_acc: 0.9193\n",
      "Epoch 79/200\n",
      "16000/16000 [==============================] - 1s 65us/step - loss: 0.1422 - acc: 0.9455 - val_loss: 0.1986 - val_acc: 0.9197\n",
      "Epoch 80/200\n",
      "16000/16000 [==============================] - 1s 64us/step - loss: 0.1409 - acc: 0.9469 - val_loss: 0.1972 - val_acc: 0.9183\n",
      "Epoch 81/200\n",
      "16000/16000 [==============================] - 1s 66us/step - loss: 0.1375 - acc: 0.9506 - val_loss: 0.1971 - val_acc: 0.9205\n",
      "Epoch 82/200\n",
      "16000/16000 [==============================] - 1s 68us/step - loss: 0.1382 - acc: 0.9491 - val_loss: 0.1967 - val_acc: 0.9202\n",
      "Epoch 83/200\n",
      "16000/16000 [==============================] - 1s 66us/step - loss: 0.1360 - acc: 0.9496 - val_loss: 0.1968 - val_acc: 0.9217\n",
      "Epoch 84/200\n",
      "16000/16000 [==============================] - 1s 63us/step - loss: 0.1360 - acc: 0.9499 - val_loss: 0.1964 - val_acc: 0.9215\n",
      "Epoch 85/200\n",
      "16000/16000 [==============================] - 1s 63us/step - loss: 0.1362 - acc: 0.9496 - val_loss: 0.1966 - val_acc: 0.9190\n",
      "Epoch 86/200\n",
      "16000/16000 [==============================] - 1s 69us/step - loss: 0.1348 - acc: 0.9516 - val_loss: 0.1962 - val_acc: 0.9208\n",
      "Epoch 87/200\n",
      "16000/16000 [==============================] - 1s 64us/step - loss: 0.1335 - acc: 0.9511 - val_loss: 0.1963 - val_acc: 0.9208\n",
      "Epoch 88/200\n",
      "16000/16000 [==============================] - 1s 64us/step - loss: 0.1330 - acc: 0.9498 - val_loss: 0.1962 - val_acc: 0.9198\n",
      "Epoch 89/200\n",
      "16000/16000 [==============================] - 1s 64us/step - loss: 0.1316 - acc: 0.9530 - val_loss: 0.1981 - val_acc: 0.9200\n",
      "Epoch 90/200\n",
      "16000/16000 [==============================] - 1s 64us/step - loss: 0.1315 - acc: 0.9526 - val_loss: 0.1981 - val_acc: 0.9200\n",
      "Epoch 91/200\n",
      "16000/16000 [==============================] - 1s 63us/step - loss: 0.1291 - acc: 0.9517 - val_loss: 0.1963 - val_acc: 0.9195\n",
      "Epoch 92/200\n",
      "16000/16000 [==============================] - 1s 62us/step - loss: 0.1306 - acc: 0.9533 - val_loss: 0.1970 - val_acc: 0.9208\n",
      "Epoch 93/200\n",
      "16000/16000 [==============================] - 1s 62us/step - loss: 0.1310 - acc: 0.9535 - val_loss: 0.1979 - val_acc: 0.9200\n",
      "Epoch 94/200\n",
      "16000/16000 [==============================] - 1s 64us/step - loss: 0.1272 - acc: 0.9539 - val_loss: 0.1961 - val_acc: 0.9205\n",
      "Epoch 95/200\n",
      "16000/16000 [==============================] - 1s 66us/step - loss: 0.1268 - acc: 0.9557 - val_loss: 0.1999 - val_acc: 0.9187\n",
      "Epoch 96/200\n",
      "16000/16000 [==============================] - 1s 67us/step - loss: 0.1275 - acc: 0.9526 - val_loss: 0.1957 - val_acc: 0.9200\n",
      "Epoch 97/200\n",
      "16000/16000 [==============================] - 1s 67us/step - loss: 0.1240 - acc: 0.9549 - val_loss: 0.1960 - val_acc: 0.9205\n",
      "Epoch 98/200\n",
      "16000/16000 [==============================] - 1s 66us/step - loss: 0.1238 - acc: 0.9568 - val_loss: 0.1957 - val_acc: 0.9210\n",
      "Epoch 99/200\n",
      "16000/16000 [==============================] - 1s 66us/step - loss: 0.1238 - acc: 0.9553 - val_loss: 0.1958 - val_acc: 0.9215\n",
      "Epoch 100/200\n",
      "16000/16000 [==============================] - 1s 66us/step - loss: 0.1232 - acc: 0.9559 - val_loss: 0.1988 - val_acc: 0.9185\n",
      "Epoch 101/200\n",
      "16000/16000 [==============================] - 1s 65us/step - loss: 0.1216 - acc: 0.9581 - val_loss: 0.1959 - val_acc: 0.9210\n",
      "Epoch 102/200\n",
      "16000/16000 [==============================] - 1s 64us/step - loss: 0.1211 - acc: 0.9576 - val_loss: 0.1955 - val_acc: 0.9213\n",
      "Epoch 103/200\n",
      "16000/16000 [==============================] - 1s 61us/step - loss: 0.1211 - acc: 0.9563 - val_loss: 0.1973 - val_acc: 0.9210\n",
      "Epoch 104/200\n",
      "16000/16000 [==============================] - 1s 62us/step - loss: 0.1216 - acc: 0.9570 - val_loss: 0.1957 - val_acc: 0.9213\n",
      "Epoch 105/200\n",
      "16000/16000 [==============================] - 1s 66us/step - loss: 0.1183 - acc: 0.9577 - val_loss: 0.1969 - val_acc: 0.9212\n",
      "Epoch 106/200\n",
      "16000/16000 [==============================] - 1s 65us/step - loss: 0.1181 - acc: 0.9580 - val_loss: 0.2019 - val_acc: 0.9185\n",
      "Epoch 107/200\n",
      "16000/16000 [==============================] - 1s 66us/step - loss: 0.1170 - acc: 0.9580 - val_loss: 0.1958 - val_acc: 0.9200\n",
      "Epoch 108/200\n",
      "16000/16000 [==============================] - 1s 65us/step - loss: 0.1174 - acc: 0.9578 - val_loss: 0.1977 - val_acc: 0.9207\n",
      "Epoch 109/200\n",
      "16000/16000 [==============================] - 1s 65us/step - loss: 0.1162 - acc: 0.9591 - val_loss: 0.1977 - val_acc: 0.9210\n",
      "Epoch 110/200\n",
      "16000/16000 [==============================] - 1s 65us/step - loss: 0.1137 - acc: 0.9604 - val_loss: 0.1956 - val_acc: 0.9223\n",
      "Epoch 111/200\n",
      "16000/16000 [==============================] - 1s 64us/step - loss: 0.1154 - acc: 0.9585 - val_loss: 0.1963 - val_acc: 0.9205\n",
      "Epoch 112/200\n",
      "16000/16000 [==============================] - 1s 64us/step - loss: 0.1128 - acc: 0.9629 - val_loss: 0.1963 - val_acc: 0.9217\n",
      "Epoch 113/200\n",
      "16000/16000 [==============================] - 1s 65us/step - loss: 0.1144 - acc: 0.9606 - val_loss: 0.1978 - val_acc: 0.9205\n",
      "Epoch 114/200\n",
      "16000/16000 [==============================] - 1s 63us/step - loss: 0.1140 - acc: 0.9614 - val_loss: 0.1953 - val_acc: 0.9218\n",
      "Epoch 115/200\n",
      "16000/16000 [==============================] - 1s 66us/step - loss: 0.1123 - acc: 0.9607 - val_loss: 0.1972 - val_acc: 0.9207\n",
      "Epoch 116/200\n",
      "16000/16000 [==============================] - 1s 64us/step - loss: 0.1115 - acc: 0.9601 - val_loss: 0.1998 - val_acc: 0.9203\n",
      "Epoch 117/200\n",
      "16000/16000 [==============================] - 1s 64us/step - loss: 0.1124 - acc: 0.9603 - val_loss: 0.1959 - val_acc: 0.9220\n",
      "Epoch 118/200\n",
      "16000/16000 [==============================] - 1s 62us/step - loss: 0.1079 - acc: 0.9643 - val_loss: 0.1963 - val_acc: 0.9217\n",
      "Epoch 119/200\n",
      "16000/16000 [==============================] - 1s 64us/step - loss: 0.1099 - acc: 0.9634 - val_loss: 0.1980 - val_acc: 0.9215\n",
      "Epoch 120/200\n",
      "16000/16000 [==============================] - 1s 61us/step - loss: 0.1100 - acc: 0.9610 - val_loss: 0.1962 - val_acc: 0.9222\n",
      "Epoch 121/200\n",
      "16000/16000 [==============================] - 1s 62us/step - loss: 0.1097 - acc: 0.9608 - val_loss: 0.1960 - val_acc: 0.9205\n",
      "Epoch 122/200\n",
      "16000/16000 [==============================] - 1s 61us/step - loss: 0.1079 - acc: 0.9632 - val_loss: 0.1959 - val_acc: 0.9215\n",
      "Epoch 123/200\n",
      "16000/16000 [==============================] - 1s 61us/step - loss: 0.1049 - acc: 0.9654 - val_loss: 0.1961 - val_acc: 0.9215\n",
      "Epoch 124/200\n",
      "16000/16000 [==============================] - 1s 62us/step - loss: 0.1061 - acc: 0.9652 - val_loss: 0.1956 - val_acc: 0.9213\n",
      "Epoch 125/200\n",
      "16000/16000 [==============================] - 1s 62us/step - loss: 0.1057 - acc: 0.9647 - val_loss: 0.1980 - val_acc: 0.9212\n",
      "Epoch 126/200\n",
      "16000/16000 [==============================] - 1s 62us/step - loss: 0.1044 - acc: 0.9647 - val_loss: 0.1990 - val_acc: 0.9215\n",
      "Epoch 127/200\n",
      "16000/16000 [==============================] - 1s 63us/step - loss: 0.1050 - acc: 0.9648 - val_loss: 0.1961 - val_acc: 0.9220\n",
      "Epoch 128/200\n",
      "16000/16000 [==============================] - 1s 63us/step - loss: 0.1049 - acc: 0.9644 - val_loss: 0.1973 - val_acc: 0.9217\n",
      "Epoch 129/200\n",
      "16000/16000 [==============================] - 1s 61us/step - loss: 0.1028 - acc: 0.9670 - val_loss: 0.1966 - val_acc: 0.9208\n",
      "Epoch 130/200\n",
      "16000/16000 [==============================] - 1s 62us/step - loss: 0.1029 - acc: 0.9664 - val_loss: 0.1972 - val_acc: 0.9217\n",
      "Epoch 131/200\n",
      "16000/16000 [==============================] - 1s 62us/step - loss: 0.1038 - acc: 0.9654 - val_loss: 0.1964 - val_acc: 0.9220\n",
      "Epoch 132/200\n",
      "16000/16000 [==============================] - 1s 63us/step - loss: 0.1002 - acc: 0.9664 - val_loss: 0.1965 - val_acc: 0.9228\n",
      "Epoch 133/200\n",
      "16000/16000 [==============================] - 1s 65us/step - loss: 0.1015 - acc: 0.9659 - val_loss: 0.1983 - val_acc: 0.9207\n",
      "Epoch 134/200\n",
      "16000/16000 [==============================] - 1s 65us/step - loss: 0.0983 - acc: 0.9683 - val_loss: 0.1984 - val_acc: 0.9212\n",
      "Epoch 135/200\n",
      "16000/16000 [==============================] - 1s 64us/step - loss: 0.1005 - acc: 0.9674 - val_loss: 0.1963 - val_acc: 0.9208\n",
      "Epoch 136/200\n",
      "16000/16000 [==============================] - 1s 61us/step - loss: 0.0985 - acc: 0.9673 - val_loss: 0.1967 - val_acc: 0.9213\n",
      "Epoch 137/200\n",
      "16000/16000 [==============================] - 1s 62us/step - loss: 0.0969 - acc: 0.9687 - val_loss: 0.1972 - val_acc: 0.9213\n",
      "Epoch 138/200\n",
      "16000/16000 [==============================] - 1s 63us/step - loss: 0.0981 - acc: 0.9688 - val_loss: 0.1966 - val_acc: 0.9215\n",
      "Epoch 139/200\n",
      "16000/16000 [==============================] - 1s 62us/step - loss: 0.0979 - acc: 0.9674 - val_loss: 0.2000 - val_acc: 0.9200\n",
      "Epoch 140/200\n",
      "16000/16000 [==============================] - 1s 64us/step - loss: 0.0969 - acc: 0.9701 - val_loss: 0.1975 - val_acc: 0.9225\n",
      "Epoch 141/200\n",
      "16000/16000 [==============================] - 1s 61us/step - loss: 0.0957 - acc: 0.9689 - val_loss: 0.2041 - val_acc: 0.9182\n",
      "Epoch 142/200\n",
      "16000/16000 [==============================] - 1s 62us/step - loss: 0.0963 - acc: 0.9693 - val_loss: 0.1978 - val_acc: 0.9220\n",
      "Epoch 143/200\n",
      "16000/16000 [==============================] - 1s 64us/step - loss: 0.0937 - acc: 0.9696 - val_loss: 0.1970 - val_acc: 0.9223\n",
      "Epoch 144/200\n",
      "16000/16000 [==============================] - 1s 61us/step - loss: 0.0934 - acc: 0.9708 - val_loss: 0.1974 - val_acc: 0.9228\n",
      "Epoch 145/200\n",
      "16000/16000 [==============================] - 1s 63us/step - loss: 0.0937 - acc: 0.9699 - val_loss: 0.1977 - val_acc: 0.9215\n",
      "Epoch 146/200\n",
      "16000/16000 [==============================] - 1s 63us/step - loss: 0.0942 - acc: 0.9702 - val_loss: 0.1972 - val_acc: 0.9215\n",
      "Epoch 147/200\n",
      "16000/16000 [==============================] - 1s 61us/step - loss: 0.0932 - acc: 0.9708 - val_loss: 0.1976 - val_acc: 0.9220\n",
      "Epoch 148/200\n",
      "16000/16000 [==============================] - 1s 61us/step - loss: 0.0922 - acc: 0.9717 - val_loss: 0.1997 - val_acc: 0.9215\n",
      "Epoch 149/200\n",
      "16000/16000 [==============================] - 1s 64us/step - loss: 0.0917 - acc: 0.9711 - val_loss: 0.1978 - val_acc: 0.9225\n",
      "Epoch 150/200\n",
      "16000/16000 [==============================] - 1s 62us/step - loss: 0.0906 - acc: 0.9734 - val_loss: 0.1984 - val_acc: 0.9220\n",
      "Epoch 151/200\n",
      "16000/16000 [==============================] - 1s 65us/step - loss: 0.0895 - acc: 0.9719 - val_loss: 0.1982 - val_acc: 0.9212\n",
      "Epoch 152/200\n",
      "16000/16000 [==============================] - 1s 68us/step - loss: 0.0902 - acc: 0.9722 - val_loss: 0.1983 - val_acc: 0.9218\n",
      "Epoch 153/200\n",
      "16000/16000 [==============================] - 1s 68us/step - loss: 0.0891 - acc: 0.9743 - val_loss: 0.1993 - val_acc: 0.9215\n",
      "Epoch 154/200\n",
      "16000/16000 [==============================] - 1s 67us/step - loss: 0.0900 - acc: 0.9718 - val_loss: 0.1992 - val_acc: 0.9215\n",
      "Epoch 155/200\n",
      "16000/16000 [==============================] - 1s 64us/step - loss: 0.0881 - acc: 0.9732 - val_loss: 0.1984 - val_acc: 0.9213\n",
      "Epoch 156/200\n",
      "16000/16000 [==============================] - 1s 63us/step - loss: 0.0870 - acc: 0.9740 - val_loss: 0.2025 - val_acc: 0.9187\n",
      "Epoch 157/200\n",
      "16000/16000 [==============================] - 1s 62us/step - loss: 0.0860 - acc: 0.9748 - val_loss: 0.2024 - val_acc: 0.9187\n",
      "Epoch 158/200\n",
      "16000/16000 [==============================] - 1s 62us/step - loss: 0.0868 - acc: 0.9731 - val_loss: 0.1996 - val_acc: 0.9235\n",
      "Epoch 159/200\n",
      "16000/16000 [==============================] - 1s 62us/step - loss: 0.0853 - acc: 0.9744 - val_loss: 0.1992 - val_acc: 0.9223\n",
      "Epoch 160/200\n",
      "16000/16000 [==============================] - 1s 61us/step - loss: 0.0856 - acc: 0.9756 - val_loss: 0.1992 - val_acc: 0.9233\n",
      "Epoch 161/200\n",
      "16000/16000 [==============================] - 1s 61us/step - loss: 0.0837 - acc: 0.9748 - val_loss: 0.1994 - val_acc: 0.9223\n",
      "Epoch 162/200\n",
      "16000/16000 [==============================] - 1s 60us/step - loss: 0.0853 - acc: 0.9732 - val_loss: 0.1992 - val_acc: 0.9215\n",
      "Epoch 163/200\n",
      "16000/16000 [==============================] - 1s 60us/step - loss: 0.0823 - acc: 0.9757 - val_loss: 0.1998 - val_acc: 0.9205\n",
      "Epoch 164/200\n",
      "16000/16000 [==============================] - 1s 63us/step - loss: 0.0838 - acc: 0.9739 - val_loss: 0.2001 - val_acc: 0.9222\n",
      "Epoch 165/200\n",
      "16000/16000 [==============================] - 1s 65us/step - loss: 0.0816 - acc: 0.9772 - val_loss: 0.2027 - val_acc: 0.9207\n",
      "Epoch 166/200\n",
      "16000/16000 [==============================] - 1s 65us/step - loss: 0.0835 - acc: 0.9752 - val_loss: 0.2009 - val_acc: 0.9190\n",
      "Epoch 167/200\n",
      "16000/16000 [==============================] - 1s 65us/step - loss: 0.0803 - acc: 0.9762 - val_loss: 0.2035 - val_acc: 0.9182\n",
      "Epoch 168/200\n",
      "16000/16000 [==============================] - 1s 65us/step - loss: 0.0814 - acc: 0.9768 - val_loss: 0.1999 - val_acc: 0.9225\n",
      "Epoch 169/200\n",
      "16000/16000 [==============================] - 1s 63us/step - loss: 0.0816 - acc: 0.9751 - val_loss: 0.2000 - val_acc: 0.9218\n",
      "Epoch 170/200\n",
      "16000/16000 [==============================] - 1s 63us/step - loss: 0.0784 - acc: 0.9784 - val_loss: 0.2023 - val_acc: 0.9220\n",
      "Epoch 171/200\n",
      "16000/16000 [==============================] - 1s 64us/step - loss: 0.0786 - acc: 0.9767 - val_loss: 0.2011 - val_acc: 0.9192\n",
      "Epoch 172/200\n",
      "16000/16000 [==============================] - 1s 61us/step - loss: 0.0790 - acc: 0.9770 - val_loss: 0.2030 - val_acc: 0.9212\n",
      "Epoch 173/200\n",
      "16000/16000 [==============================] - 1s 63us/step - loss: 0.0779 - acc: 0.9778 - val_loss: 0.2017 - val_acc: 0.9212\n",
      "Epoch 174/200\n",
      "16000/16000 [==============================] - 1s 64us/step - loss: 0.0781 - acc: 0.9764 - val_loss: 0.2032 - val_acc: 0.9190\n",
      "Epoch 175/200\n",
      "16000/16000 [==============================] - 1s 61us/step - loss: 0.0776 - acc: 0.9787 - val_loss: 0.2009 - val_acc: 0.9220\n",
      "Epoch 176/200\n",
      "16000/16000 [==============================] - 1s 60us/step - loss: 0.0774 - acc: 0.9797 - val_loss: 0.2065 - val_acc: 0.9190\n",
      "Epoch 177/200\n",
      "16000/16000 [==============================] - 1s 63us/step - loss: 0.0775 - acc: 0.9786 - val_loss: 0.2019 - val_acc: 0.9190\n",
      "Epoch 178/200\n",
      "16000/16000 [==============================] - 1s 61us/step - loss: 0.0763 - acc: 0.9799 - val_loss: 0.2019 - val_acc: 0.9223\n",
      "Epoch 179/200\n",
      "16000/16000 [==============================] - 1s 60us/step - loss: 0.0755 - acc: 0.9789 - val_loss: 0.2056 - val_acc: 0.9205\n",
      "Epoch 180/200\n",
      "16000/16000 [==============================] - 1s 61us/step - loss: 0.0755 - acc: 0.9788 - val_loss: 0.2068 - val_acc: 0.9202\n",
      "Epoch 181/200\n",
      "16000/16000 [==============================] - 1s 60us/step - loss: 0.0756 - acc: 0.9789 - val_loss: 0.2017 - val_acc: 0.9200\n",
      "Epoch 182/200\n",
      "16000/16000 [==============================] - 1s 63us/step - loss: 0.0756 - acc: 0.9804 - val_loss: 0.2020 - val_acc: 0.9215\n",
      "Epoch 183/200\n",
      "16000/16000 [==============================] - 1s 66us/step - loss: 0.0745 - acc: 0.9793 - val_loss: 0.2044 - val_acc: 0.9202\n",
      "Epoch 184/200\n",
      "16000/16000 [==============================] - 1s 64us/step - loss: 0.0735 - acc: 0.9798 - val_loss: 0.2077 - val_acc: 0.9190\n",
      "Epoch 185/200\n",
      "16000/16000 [==============================] - 1s 67us/step - loss: 0.0731 - acc: 0.9809 - val_loss: 0.2029 - val_acc: 0.9208\n",
      "Epoch 186/200\n",
      "16000/16000 [==============================] - 1s 64us/step - loss: 0.0719 - acc: 0.9814 - val_loss: 0.2035 - val_acc: 0.9215\n",
      "Epoch 187/200\n",
      "16000/16000 [==============================] - 1s 61us/step - loss: 0.0712 - acc: 0.9814 - val_loss: 0.2032 - val_acc: 0.9220\n",
      "Epoch 188/200\n",
      "16000/16000 [==============================] - 1s 64us/step - loss: 0.0736 - acc: 0.9796 - val_loss: 0.2035 - val_acc: 0.9188\n",
      "Epoch 189/200\n",
      "16000/16000 [==============================] - 1s 65us/step - loss: 0.0703 - acc: 0.9819 - val_loss: 0.2035 - val_acc: 0.9218\n",
      "Epoch 190/200\n",
      "16000/16000 [==============================] - 1s 63us/step - loss: 0.0708 - acc: 0.9811 - val_loss: 0.2102 - val_acc: 0.9182\n",
      "Epoch 191/200\n",
      "16000/16000 [==============================] - 1s 66us/step - loss: 0.0704 - acc: 0.9815 - val_loss: 0.2040 - val_acc: 0.9213\n",
      "Epoch 192/200\n",
      "16000/16000 [==============================] - 1s 66us/step - loss: 0.0706 - acc: 0.9820 - val_loss: 0.2053 - val_acc: 0.9185\n",
      "Epoch 193/200\n",
      "16000/16000 [==============================] - 1s 66us/step - loss: 0.0699 - acc: 0.9819 - val_loss: 0.2037 - val_acc: 0.9213\n",
      "Epoch 194/200\n",
      "16000/16000 [==============================] - 1s 68us/step - loss: 0.0685 - acc: 0.9825 - val_loss: 0.2049 - val_acc: 0.9210\n",
      "Epoch 195/200\n",
      "16000/16000 [==============================] - 1s 67us/step - loss: 0.0696 - acc: 0.9807 - val_loss: 0.2055 - val_acc: 0.9198\n",
      "Epoch 196/200\n",
      "16000/16000 [==============================] - 1s 62us/step - loss: 0.0686 - acc: 0.9819 - val_loss: 0.2050 - val_acc: 0.9208\n",
      "Epoch 197/200\n",
      "16000/16000 [==============================] - 1s 62us/step - loss: 0.0672 - acc: 0.9823 - val_loss: 0.2060 - val_acc: 0.9200\n",
      "Epoch 198/200\n",
      "16000/16000 [==============================] - 1s 67us/step - loss: 0.0679 - acc: 0.9824 - val_loss: 0.2054 - val_acc: 0.9215\n",
      "Epoch 199/200\n",
      "16000/16000 [==============================] - 1s 64us/step - loss: 0.0672 - acc: 0.9818 - val_loss: 0.2053 - val_acc: 0.9208\n",
      "Epoch 200/200\n",
      "16000/16000 [==============================] - 1s 62us/step - loss: 0.0665 - acc: 0.9838 - val_loss: 0.2065 - val_acc: 0.9205\n"
     ]
    }
   ],
   "source": [
    "history = model.fit(features, labels,\n",
    "                    epochs=200,\n",
    "                    batch_size=1024,\n",
    "                    validation_split=0.2 )"
   ]
  },
  {
   "cell_type": "code",
   "execution_count": 101,
   "metadata": {
    "collapsed": true
   },
   "outputs": [],
   "source": [
    "import matplotlib.pyplot as plt\n",
    "plt.style.use('ggplot')"
   ]
  },
  {
   "cell_type": "code",
   "execution_count": 104,
   "metadata": {},
   "outputs": [
    {
     "data": {
      "text/plain": [
       "dict_keys(['val_loss', 'val_acc', 'loss', 'acc'])"
      ]
     },
     "execution_count": 104,
     "metadata": {},
     "output_type": "execute_result"
    }
   ],
   "source": [
    "history.history.keys()"
   ]
  },
  {
   "cell_type": "code",
   "execution_count": 105,
   "metadata": {
    "collapsed": true
   },
   "outputs": [],
   "source": [
    "acc = history.history['acc']\n",
    "val_acc = history.history['val_acc']\n",
    "loss = history.history['loss']\n",
    "val_loss = history.history['val_loss']"
   ]
  },
  {
   "cell_type": "code",
   "execution_count": 106,
   "metadata": {},
   "outputs": [
    {
     "data": {
      "text/plain": [
       "<matplotlib.legend.Legend at 0x7f69648072e8>"
      ]
     },
     "execution_count": 106,
     "metadata": {},
     "output_type": "execute_result"
    },
    {
     "data": {
      "image/png": "[encoded data removed]",
      "text/plain": [
       "<Figure size 1152x576 with 2 Axes>"
      ]
     },
     "metadata": {},
     "output_type": "display_data"
    }
   ],
   "source": [
    "fig, axes = plt.subplots(1,2,figsize=(16,8))\n",
    "\n",
    "axes[0].plot(epochs, acc, 'bo', label='Training acc')\n",
    "axes[0].plot(epochs, val_acc, 'b', label='Validation acc')\n",
    "axes[0].set_title('Training and validation accuracy')\n",
    "axes[0].legend()\n",
    "\n",
    "axes[1].plot(epochs, loss, 'bo', label='Training loss')\n",
    "axes[1].plot(epochs, val_loss, 'b', label='Validation loss')\n",
    "axes[1].set_title('Training and validation loss')\n",
    "axes[1].legend()\n"
   ]
  },
  {
   "cell_type": "code",
   "execution_count": null,
   "metadata": {
    "collapsed": true
   },
   "outputs": [],
   "source": []
  }
 ],
 "metadata": {
  "kernelspec": {
   "display_name": "Python 3",
   "language": "python",
   "name": "python3"
  },
  "language_info": {
   "codemirror_mode": {
    "name": "ipython",
    "version": 3
   },
   "file_extension": ".py",
   "mimetype": "text/x-python",
   "name": "python",
   "nbconvert_exporter": "python",
   "pygments_lexer": "ipython3",
   "version": "3.6.3"
  }
 },
 "nbformat": 4,
 "nbformat_minor": 2
}
